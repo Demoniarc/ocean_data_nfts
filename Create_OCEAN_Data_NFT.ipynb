{
  "cells": [
    {
      "cell_type": "markdown",
      "metadata": {
        "id": "U2cIERTiROa_"
      },
      "source": [
        "# Create OCEAN Data NFT\n",
        "Quickly create OCEAN Data NFTs by querying blockchain data from Dune and Flipside.\n",
        "\n",
        "**Steps:**\n",
        "1. Get Data\n",
        "2. Store Data\n",
        "3. Create Data NFT"
      ]
    },
    {
      "cell_type": "code",
      "execution_count": 1,
      "metadata": {
        "id": "qC-Gh5WzVRUy"
      },
      "outputs": [],
      "source": [
        "import json\n",
        "import pandas as pd\n",
        "import os\n",
        "import time\n",
        "from dotenv import load_dotenv\n",
        "import requests\n",
        "import subprocess\n",
        "from flipside import Flipside\n",
        "from ocean_lib.web3_internal.utils import connect_to_network\n",
        "from ocean_lib.example_config import get_config_dict\n",
        "from ocean_lib.ocean.ocean import Ocean\n",
        "from brownie.network import accounts, chain\n",
        "\n",
        "# Load variables from .env file\n",
        "load_dotenv()\n",
        "DUNE_API_KEY = os.getenv(\"DUNE_API_KEY\")\n",
        "FLIPSIDE_API_KEY = os.getenv(\"FLIPSIDE_API_KEY\")"
      ]
    },
    {
      "cell_type": "markdown",
      "metadata": {
        "id": "DuFwUeDwRksV"
      },
      "source": [
        "## 1. Get Data\n",
        "### Flipside\n",
        "\n",
        "* SDK Docs: https://docs.flipsidecrypto.com/flipside-api/get-started"
      ]
    },
    {
      "cell_type": "code",
      "execution_count": 2,
      "metadata": {
        "id": "Gs3ndPZIRY5N"
      },
      "outputs": [],
      "source": [
        "# Query Flipside using their Python SDK\n",
        "def query_flipside(sql):\n",
        "    flipside = Flipside(FLIPSIDE_API_KEY, \"https://api-v2.flipsidecrypto.xyz\")\n",
        "    results = flipside.query(sql)\n",
        "    results_df = pd.DataFrame(results.rows, columns=results.columns).drop(\n",
        "        columns=[\"__row_index\"]\n",
        "    )\n",
        "    return results_df"
      ]
    },
    {
      "cell_type": "code",
      "execution_count": 3,
      "metadata": {
        "id": "QOVVpyiWhrR3"
      },
      "outputs": [
        {
          "data": {
            "text/html": [
              "<div>\n",
              "<style scoped>\n",
              "    .dataframe tbody tr th:only-of-type {\n",
              "        vertical-align: middle;\n",
              "    }\n",
              "\n",
              "    .dataframe tbody tr th {\n",
              "        vertical-align: top;\n",
              "    }\n",
              "\n",
              "    .dataframe thead th {\n",
              "        text-align: right;\n",
              "    }\n",
              "</style>\n",
              "<table border=\"1\" class=\"dataframe\">\n",
              "  <thead>\n",
              "    <tr style=\"text-align: right;\">\n",
              "      <th></th>\n",
              "      <th>dt</th>\n",
              "      <th>tx_ct</th>\n",
              "    </tr>\n",
              "  </thead>\n",
              "  <tbody>\n",
              "    <tr>\n",
              "      <th>0</th>\n",
              "      <td>2023-08-28T00:00:00.000Z</td>\n",
              "      <td>399245</td>\n",
              "    </tr>\n",
              "    <tr>\n",
              "      <th>1</th>\n",
              "      <td>2023-08-29T00:00:00.000Z</td>\n",
              "      <td>1019692</td>\n",
              "    </tr>\n",
              "    <tr>\n",
              "      <th>2</th>\n",
              "      <td>2023-08-30T00:00:00.000Z</td>\n",
              "      <td>1027316</td>\n",
              "    </tr>\n",
              "    <tr>\n",
              "      <th>3</th>\n",
              "      <td>2023-08-31T00:00:00.000Z</td>\n",
              "      <td>1010128</td>\n",
              "    </tr>\n",
              "    <tr>\n",
              "      <th>4</th>\n",
              "      <td>2023-09-01T00:00:00.000Z</td>\n",
              "      <td>1006635</td>\n",
              "    </tr>\n",
              "    <tr>\n",
              "      <th>5</th>\n",
              "      <td>2023-09-02T00:00:00.000Z</td>\n",
              "      <td>1024172</td>\n",
              "    </tr>\n",
              "    <tr>\n",
              "      <th>6</th>\n",
              "      <td>2023-09-03T00:00:00.000Z</td>\n",
              "      <td>1038128</td>\n",
              "    </tr>\n",
              "    <tr>\n",
              "      <th>7</th>\n",
              "      <td>2023-09-04T00:00:00.000Z</td>\n",
              "      <td>575042</td>\n",
              "    </tr>\n",
              "  </tbody>\n",
              "</table>\n",
              "</div>"
            ],
            "text/plain": [
              "                         dt    tx_ct\n",
              "0  2023-08-28T00:00:00.000Z   399245\n",
              "1  2023-08-29T00:00:00.000Z  1019692\n",
              "2  2023-08-30T00:00:00.000Z  1027316\n",
              "3  2023-08-31T00:00:00.000Z  1010128\n",
              "4  2023-09-01T00:00:00.000Z  1006635\n",
              "5  2023-09-02T00:00:00.000Z  1024172\n",
              "6  2023-09-03T00:00:00.000Z  1038128\n",
              "7  2023-09-04T00:00:00.000Z   575042"
            ]
          },
          "execution_count": 3,
          "metadata": {},
          "output_type": "execute_result"
        }
      ],
      "source": [
        "sql = \"\"\"\n",
        "SELECT\n",
        "  date(block_timestamp) as dt,\n",
        "  count(distinct tx_hash) as tx_ct\n",
        "FROM ethereum.core.fact_transactions\n",
        "WHERE block_timestamp >= GETDATE() - interval'7 days'\n",
        "GROUP BY 1\n",
        "order by 1 asc\n",
        "\"\"\"\n",
        "results_df = query_flipside(sql)\n",
        "results_df"
      ]
    },
    {
      "cell_type": "markdown",
      "metadata": {},
      "source": [
        "### Dune\n",
        "\n",
        "* API Docs: https://dune.com/docs/api/"
      ]
    },
    {
      "cell_type": "code",
      "execution_count": 6,
      "metadata": {},
      "outputs": [],
      "source": [
        "# Query Dune Analytics via API\n",
        "def query_dune(q):\n",
        "    url = f\"https://api.dune.com/api/v1/query/{q}/results?api_key={DUNE_API_KEY}\"\n",
        "    response = requests.get(url)\n",
        "    results_json = json.loads(response.text)[\"result\"][\"rows\"]\n",
        "    results_df = pd.DataFrame.from_dict(results_json)\n",
        "    return results_df"
      ]
    },
    {
      "cell_type": "code",
      "execution_count": 7,
      "metadata": {},
      "outputs": [
        {
          "ename": "KeyError",
          "evalue": "'result'",
          "output_type": "error",
          "traceback": [
            "\u001b[0;31m---------------------------------------------------------------------------\u001b[0m",
            "\u001b[0;31mKeyError\u001b[0m                                  Traceback (most recent call last)",
            "Cell \u001b[0;32mIn[7], line 2\u001b[0m\n\u001b[1;32m      1\u001b[0m dune_query_id \u001b[39m=\u001b[39m \u001b[39m2847682\u001b[39m  \u001b[39m# Query URL: https://dune.com/queries/2847682\u001b[39;00m\n\u001b[0;32m----> 2\u001b[0m results_df \u001b[39m=\u001b[39m query_dune(dune_query_id)\n\u001b[1;32m      3\u001b[0m results_df\n",
            "Cell \u001b[0;32mIn[6], line 5\u001b[0m, in \u001b[0;36mquery_dune\u001b[0;34m(q)\u001b[0m\n\u001b[1;32m      3\u001b[0m url \u001b[39m=\u001b[39m \u001b[39mf\u001b[39m\u001b[39m\"\u001b[39m\u001b[39mhttps://api.dune.com/api/v1/query/\u001b[39m\u001b[39m{\u001b[39;00mq\u001b[39m}\u001b[39;00m\u001b[39m/results?api_key=\u001b[39m\u001b[39m{\u001b[39;00mDUNE_API_KEY\u001b[39m}\u001b[39;00m\u001b[39m\"\u001b[39m\n\u001b[1;32m      4\u001b[0m response \u001b[39m=\u001b[39m requests\u001b[39m.\u001b[39mget(url)\n\u001b[0;32m----> 5\u001b[0m results_json \u001b[39m=\u001b[39m json\u001b[39m.\u001b[39;49mloads(response\u001b[39m.\u001b[39;49mtext)[\u001b[39m\"\u001b[39;49m\u001b[39mresult\u001b[39;49m\u001b[39m\"\u001b[39;49m][\u001b[39m\"\u001b[39m\u001b[39mrows\u001b[39m\u001b[39m\"\u001b[39m]\n\u001b[1;32m      6\u001b[0m results_df \u001b[39m=\u001b[39m pd\u001b[39m.\u001b[39mDataFrame\u001b[39m.\u001b[39mfrom_dict(results_json)\n\u001b[1;32m      7\u001b[0m \u001b[39mreturn\u001b[39;00m results_df\n",
            "\u001b[0;31mKeyError\u001b[0m: 'result'"
          ]
        }
      ],
      "source": [
        "dune_query_id = 2847682  # Query URL: https://dune.com/queries/2847682\n",
        "results_df = query_dune(dune_query_id)\n",
        "results_df"
      ]
    },
    {
      "cell_type": "markdown",
      "metadata": {},
      "source": [
        "## 2. Store Data\n",
        "### Add File to GitHub\n",
        "\n",
        "*Note: This is a quick & easy solution to host the data, but can also add file to IPFS, Arweave, GCP, AWS, etc...*"
      ]
    },
    {
      "cell_type": "code",
      "execution_count": null,
      "metadata": {},
      "outputs": [],
      "source": [
        "# Create File from Query results\n",
        "results_df.to_csv(\"query_results.csv\", index=False)"
      ]
    },
    {
      "cell_type": "code",
      "execution_count": null,
      "metadata": {},
      "outputs": [],
      "source": [
        "# Store file in GitHub repo\n",
        "def git_add_commit_push(commit_message):\n",
        "    try:\n",
        "        subprocess.run([\"git\", \"add\", \".\"])\n",
        "        subprocess.run([\"git\", \"commit\", \"-m\", commit_message])\n",
        "        subprocess.run([\"git\", \"push\"])\n",
        "        print(\"Git add, commit, and push successful!\")\n",
        "    except Exception as e:\n",
        "        print(\"An error occurred:\", e)\n",
        "\n",
        "\n",
        "# Replace 'Your commit message here' with your desired commit message\n",
        "commit_message = \"Your commit message here\"\n",
        "\n",
        "git_add_commit_push(commit_message)"
      ]
    },
    {
      "cell_type": "markdown",
      "metadata": {
        "id": "jq9EbM_MRwLI"
      },
      "source": [
        "## 3. Create Data NFT\n",
        "### Add Data NFT to the OCEAN Protocol Marketplace\n",
        "\n",
        "* Marketplace: https://market.oceanprotocol.com/\n",
        "* SDK Docs: https://docs.oceanprotocol.com/developers/ocean.py/install"
      ]
    },
    {
      "cell_type": "code",
      "execution_count": null,
      "metadata": {},
      "outputs": [],
      "source": [
        "# Connect to Blockchain\n",
        "connect_to_network(\"polygon-main\")\n",
        "config = get_config_dict(\"polygon-main\")\n",
        "ocean = Ocean(config)"
      ]
    },
    {
      "cell_type": "code",
      "execution_count": null,
      "metadata": {
        "id": "ddWUcAVtvtQx"
      },
      "outputs": [],
      "source": [
        "# Connect to Wallet\n",
        "accounts.clear()\n",
        "private_key = os.getenv(\"PRIVATE_KEY\")\n",
        "wallet = accounts.add(private_key)\n",
        "print(\"MATIC Balance:\", wallet.balance() / 1e18)"
      ]
    },
    {
      "cell_type": "code",
      "execution_count": null,
      "metadata": {},
      "outputs": [],
      "source": [
        "# Create Data NFT\n",
        "name = \"Data NFT (Dune)\"\n",
        "\n",
        "# Link to File\n",
        "result = subprocess.run(\n",
        "    [\"git\", \"config\", \"--get\", \"user.name\"], stdout=subprocess.PIPE, text=True\n",
        ")\n",
        "github_username = result.stdout.strip().replace(\" \", \"\")\n",
        "url = f\"https://raw.githubusercontent.com/{github_username}/ocean_data_nfts/main/query_results.csv\"\n",
        "\n",
        "# Set Gas Fees\n",
        "priority_fee = chain.priority_fee\n",
        "max_fee = (chain.base_fee * 2) + priority_fee\n",
        "gas_limit = int((priority_fee + max_fee) / 1e5)\n",
        "print(\"priority_fee:\", priority_fee, \"max_fee:\", max_fee, \"gas_limit:\", gas_limit)\n",
        "\n",
        "# Configure Transaction Variables\n",
        "tx_dict = {\n",
        "    \"from\": wallet,\n",
        "    \"priority_fee\": priority_fee,\n",
        "    \"max_fee\": max_fee,\n",
        "    \"gas_limit\": gas_limit,\n",
        "}\n",
        "\n",
        "# Publish Data NFT\n",
        "(data_nft, datatoken, ddo) = ocean.assets.create_url_asset(name, url, tx_dict)\n",
        "\n",
        "time.sleep(30)\n",
        "\n",
        "# Set Price to Free\n",
        "datatoken.create_dispenser(tx_dict)\n",
        "\n",
        "print(\"Data NFT published:\")\n",
        "print(f\"  data_nft: symbol={data_nft.symbol()}, address={data_nft.address}\")\n",
        "print(f\"  datatoken: symbol={datatoken.symbol()}, address={datatoken.address}\")\n",
        "print(f\"  did={ddo.did}\")\n",
        "print(f\"  Link: https://market.oceanprotocol.com/asset/{ddo.did}\")"
      ]
    }
  ],
  "metadata": {
    "colab": {
      "collapsed_sections": [
        "lD0ohbZKhrSA",
        "QyP9sQLdhrSH"
      ],
      "provenance": [],
      "toc_visible": true
    },
    "kernelspec": {
      "display_name": "Python 3 (ipykernel)",
      "language": "python",
      "name": "python3"
    },
    "language_info": {
      "codemirror_mode": {
        "name": "ipython",
        "version": 3
      },
      "file_extension": ".py",
      "mimetype": "text/x-python",
      "name": "python",
      "nbconvert_exporter": "python",
      "pygments_lexer": "ipython3",
      "version": "3.8.17"
    }
  },
  "nbformat": 4,
  "nbformat_minor": 0
}
