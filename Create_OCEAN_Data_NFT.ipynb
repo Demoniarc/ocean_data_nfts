{
  "cells": [
    {
      "cell_type": "markdown",
      "metadata": {
        "id": "U2cIERTiROa_"
      },
      "source": [
        "# Create OCEAN Data NFT\n",
        "Quickly create OCEAN Data NFTs by querying blockchain data from Dune and Flipside.\n",
        "\n",
        "**Steps:**\n",
        "1. Get Data\n",
        "2. Store Data\n",
        "3. Create Data NFT"
      ]
    },
    {
      "cell_type": "code",
      "execution_count": 20,
      "metadata": {
        "id": "qC-Gh5WzVRUy"
      },
      "outputs": [],
      "source": [
        "import json\n",
        "import pandas as pd\n",
        "import os\n",
        "import time\n",
        "from dotenv import load_dotenv\n",
        "import requests\n",
        "import subprocess\n",
        "from flipside import Flipside\n",
        "from ocean_lib.web3_internal.utils import connect_to_network\n",
        "from ocean_lib.example_config import get_config_dict\n",
        "from ocean_lib.ocean.ocean import Ocean\n",
        "from brownie.network import accounts, chain\n",
        "\n",
        "# Load variables from .env file\n",
        "load_dotenv()\n",
        "DUNE_API_KEY = os.getenv(\"DUNE_API_KEY\")\n",
        "FLIPSIDE_API_KEY = os.getenv(\"FLIPSIDE_API_KEY\")\n",
        "WEATHER_API_KEY = os.getenv(\"WEATHER_API_KEY\")"
      ]
    },
    {
      "cell_type": "markdown",
      "metadata": {
        "id": "DuFwUeDwRksV"
      },
      "source": [
        "## 1. Get Data\n",
        "### Flipside\n",
        "\n",
        "* SDK Docs: https://docs.flipsidecrypto.com/flipside-api/get-started"
      ]
    },
    {
      "cell_type": "code",
      "execution_count": 2,
      "metadata": {
        "id": "Gs3ndPZIRY5N"
      },
      "outputs": [],
      "source": [
        "# Query Flipside using their Python SDK\n",
        "def query_flipside(sql):\n",
        "    flipside = Flipside(FLIPSIDE_API_KEY, \"https://api-v2.flipsidecrypto.xyz\")\n",
        "    results = flipside.query(sql)\n",
        "    results_df = pd.DataFrame(results.rows, columns=results.columns).drop(\n",
        "        columns=[\"__row_index\"]\n",
        "    )\n",
        "    return results_df"
      ]
    },
    {
      "cell_type": "code",
      "execution_count": 3,
      "metadata": {
        "id": "QOVVpyiWhrR3"
      },
      "outputs": [
        {
          "data": {
            "text/html": [
              "<div>\n",
              "<style scoped>\n",
              "    .dataframe tbody tr th:only-of-type {\n",
              "        vertical-align: middle;\n",
              "    }\n",
              "\n",
              "    .dataframe tbody tr th {\n",
              "        vertical-align: top;\n",
              "    }\n",
              "\n",
              "    .dataframe thead th {\n",
              "        text-align: right;\n",
              "    }\n",
              "</style>\n",
              "<table border=\"1\" class=\"dataframe\">\n",
              "  <thead>\n",
              "    <tr style=\"text-align: right;\">\n",
              "      <th></th>\n",
              "      <th>dt</th>\n",
              "      <th>tx_ct</th>\n",
              "    </tr>\n",
              "  </thead>\n",
              "  <tbody>\n",
              "    <tr>\n",
              "      <th>0</th>\n",
              "      <td>2023-08-28T00:00:00.000Z</td>\n",
              "      <td>356396</td>\n",
              "    </tr>\n",
              "    <tr>\n",
              "      <th>1</th>\n",
              "      <td>2023-08-29T00:00:00.000Z</td>\n",
              "      <td>1019692</td>\n",
              "    </tr>\n",
              "    <tr>\n",
              "      <th>2</th>\n",
              "      <td>2023-08-30T00:00:00.000Z</td>\n",
              "      <td>1027316</td>\n",
              "    </tr>\n",
              "    <tr>\n",
              "      <th>3</th>\n",
              "      <td>2023-08-31T00:00:00.000Z</td>\n",
              "      <td>1010128</td>\n",
              "    </tr>\n",
              "    <tr>\n",
              "      <th>4</th>\n",
              "      <td>2023-09-01T00:00:00.000Z</td>\n",
              "      <td>1006635</td>\n",
              "    </tr>\n",
              "    <tr>\n",
              "      <th>5</th>\n",
              "      <td>2023-09-02T00:00:00.000Z</td>\n",
              "      <td>1024172</td>\n",
              "    </tr>\n",
              "    <tr>\n",
              "      <th>6</th>\n",
              "      <td>2023-09-03T00:00:00.000Z</td>\n",
              "      <td>1038128</td>\n",
              "    </tr>\n",
              "    <tr>\n",
              "      <th>7</th>\n",
              "      <td>2023-09-04T00:00:00.000Z</td>\n",
              "      <td>610216</td>\n",
              "    </tr>\n",
              "  </tbody>\n",
              "</table>\n",
              "</div>"
            ],
            "text/plain": [
              "                         dt    tx_ct\n",
              "0  2023-08-28T00:00:00.000Z   356396\n",
              "1  2023-08-29T00:00:00.000Z  1019692\n",
              "2  2023-08-30T00:00:00.000Z  1027316\n",
              "3  2023-08-31T00:00:00.000Z  1010128\n",
              "4  2023-09-01T00:00:00.000Z  1006635\n",
              "5  2023-09-02T00:00:00.000Z  1024172\n",
              "6  2023-09-03T00:00:00.000Z  1038128\n",
              "7  2023-09-04T00:00:00.000Z   610216"
            ]
          },
          "execution_count": 3,
          "metadata": {},
          "output_type": "execute_result"
        }
      ],
      "source": [
        "sql = \"\"\"\n",
        "SELECT\n",
        "  date(block_timestamp) as dt,\n",
        "  count(distinct tx_hash) as tx_ct\n",
        "FROM ethereum.core.fact_transactions\n",
        "WHERE block_timestamp >= GETDATE() - interval'7 days'\n",
        "GROUP BY 1\n",
        "order by 1 asc\n",
        "\"\"\"\n",
        "results_df = query_flipside(sql)\n",
        "results_df"
      ]
    },
    {
      "cell_type": "markdown",
      "metadata": {},
      "source": [
        "### Dune\n",
        "\n",
        "* API Docs: https://dune.com/docs/api/"
      ]
    },
    {
      "cell_type": "code",
      "execution_count": 6,
      "metadata": {},
      "outputs": [],
      "source": [
        "# Query Dune Analytics via API\n",
        "def query_dune(q):\n",
        "    url = f\"https://api.dune.com/api/v1/query/{q}/results?api_key={DUNE_API_KEY}\"\n",
        "    response = requests.get(url)\n",
        "    results_json = json.loads(response.text)[\"result\"][\"rows\"]\n",
        "    results_df = pd.DataFrame.from_dict(results_json)\n",
        "    return results_df"
      ]
    },
    {
      "cell_type": "code",
      "execution_count": 7,
      "metadata": {},
      "outputs": [
        {
          "ename": "KeyError",
          "evalue": "'result'",
          "output_type": "error",
          "traceback": [
            "\u001b[0;31m---------------------------------------------------------------------------\u001b[0m",
            "\u001b[0;31mKeyError\u001b[0m                                  Traceback (most recent call last)",
            "Cell \u001b[0;32mIn[7], line 2\u001b[0m\n\u001b[1;32m      1\u001b[0m dune_query_id \u001b[39m=\u001b[39m \u001b[39m2847682\u001b[39m  \u001b[39m# Query URL: https://dune.com/queries/2847682\u001b[39;00m\n\u001b[0;32m----> 2\u001b[0m results_df \u001b[39m=\u001b[39m query_dune(dune_query_id)\n\u001b[1;32m      3\u001b[0m results_df\n",
            "Cell \u001b[0;32mIn[6], line 5\u001b[0m, in \u001b[0;36mquery_dune\u001b[0;34m(q)\u001b[0m\n\u001b[1;32m      3\u001b[0m url \u001b[39m=\u001b[39m \u001b[39mf\u001b[39m\u001b[39m\"\u001b[39m\u001b[39mhttps://api.dune.com/api/v1/query/\u001b[39m\u001b[39m{\u001b[39;00mq\u001b[39m}\u001b[39;00m\u001b[39m/results?api_key=\u001b[39m\u001b[39m{\u001b[39;00mDUNE_API_KEY\u001b[39m}\u001b[39;00m\u001b[39m\"\u001b[39m\n\u001b[1;32m      4\u001b[0m response \u001b[39m=\u001b[39m requests\u001b[39m.\u001b[39mget(url)\n\u001b[0;32m----> 5\u001b[0m results_json \u001b[39m=\u001b[39m json\u001b[39m.\u001b[39;49mloads(response\u001b[39m.\u001b[39;49mtext)[\u001b[39m\"\u001b[39;49m\u001b[39mresult\u001b[39;49m\u001b[39m\"\u001b[39;49m][\u001b[39m\"\u001b[39m\u001b[39mrows\u001b[39m\u001b[39m\"\u001b[39m]\n\u001b[1;32m      6\u001b[0m results_df \u001b[39m=\u001b[39m pd\u001b[39m.\u001b[39mDataFrame\u001b[39m.\u001b[39mfrom_dict(results_json)\n\u001b[1;32m      7\u001b[0m \u001b[39mreturn\u001b[39;00m results_df\n",
            "\u001b[0;31mKeyError\u001b[0m: 'result'"
          ]
        }
      ],
      "source": [
        "dune_query_id = 2847682  # Query URL: https://dune.com/queries/2847682\n",
        "results_df = query_dune(dune_query_id)\n",
        "results_df"
      ]
    },
    {
      "cell_type": "markdown",
      "metadata": {},
      "source": [
        "### Weather API\n",
        "\n",
        "* API Docs: https://www.visualcrossing.com/resources/documentation/weather-api/timeline-weather-api/"
      ]
    },
    {
      "cell_type": "code",
      "execution_count": 21,
      "metadata": {},
      "outputs": [
        {
          "data": {
            "text/html": [
              "<div>\n",
              "<style scoped>\n",
              "    .dataframe tbody tr th:only-of-type {\n",
              "        vertical-align: middle;\n",
              "    }\n",
              "\n",
              "    .dataframe tbody tr th {\n",
              "        vertical-align: top;\n",
              "    }\n",
              "\n",
              "    .dataframe thead th {\n",
              "        text-align: right;\n",
              "    }\n",
              "</style>\n",
              "<table border=\"1\" class=\"dataframe\">\n",
              "  <thead>\n",
              "    <tr style=\"text-align: right;\">\n",
              "      <th></th>\n",
              "      <th>name</th>\n",
              "      <th>datetime</th>\n",
              "      <th>tempmax</th>\n",
              "      <th>tempmin</th>\n",
              "      <th>temp</th>\n",
              "      <th>feelslikemax</th>\n",
              "      <th>feelslikemin</th>\n",
              "      <th>feelslike</th>\n",
              "      <th>dew</th>\n",
              "      <th>humidity</th>\n",
              "      <th>...</th>\n",
              "      <th>solarenergy</th>\n",
              "      <th>uvindex</th>\n",
              "      <th>severerisk</th>\n",
              "      <th>sunrise</th>\n",
              "      <th>sunset</th>\n",
              "      <th>moonphase</th>\n",
              "      <th>conditions</th>\n",
              "      <th>description</th>\n",
              "      <th>icon</th>\n",
              "      <th>stations</th>\n",
              "    </tr>\n",
              "  </thead>\n",
              "  <tbody>\n",
              "    <tr>\n",
              "      <th>0</th>\n",
              "      <td>London, England, United Kingdom</td>\n",
              "      <td>2022-07-15</td>\n",
              "      <td>25.5</td>\n",
              "      <td>14.6</td>\n",
              "      <td>20.6</td>\n",
              "      <td>25.5</td>\n",
              "      <td>14.6</td>\n",
              "      <td>20.6</td>\n",
              "      <td>8.3</td>\n",
              "      <td>46.5</td>\n",
              "      <td>...</td>\n",
              "      <td>17.8</td>\n",
              "      <td>9</td>\n",
              "      <td>NaN</td>\n",
              "      <td>2022-07-15T05:00:53</td>\n",
              "      <td>2022-07-15T21:11:28</td>\n",
              "      <td>0.56</td>\n",
              "      <td>Clear</td>\n",
              "      <td>Clear conditions throughout the day.</td>\n",
              "      <td>clear-day</td>\n",
              "      <td>03769099999,03680099999,D5621,03781099999,0367...</td>\n",
              "    </tr>\n",
              "    <tr>\n",
              "      <th>1</th>\n",
              "      <td>London, England, United Kingdom</td>\n",
              "      <td>2022-07-16</td>\n",
              "      <td>27.8</td>\n",
              "      <td>15.3</td>\n",
              "      <td>21.8</td>\n",
              "      <td>27.1</td>\n",
              "      <td>15.3</td>\n",
              "      <td>21.7</td>\n",
              "      <td>10.9</td>\n",
              "      <td>51.8</td>\n",
              "      <td>...</td>\n",
              "      <td>17.5</td>\n",
              "      <td>8</td>\n",
              "      <td>NaN</td>\n",
              "      <td>2022-07-16T05:02:05</td>\n",
              "      <td>2022-07-16T21:10:27</td>\n",
              "      <td>0.59</td>\n",
              "      <td>Clear</td>\n",
              "      <td>Clear conditions throughout the day.</td>\n",
              "      <td>clear-day</td>\n",
              "      <td>03769099999,03680099999,D5621,03781099999,0367...</td>\n",
              "    </tr>\n",
              "    <tr>\n",
              "      <th>2</th>\n",
              "      <td>London, England, United Kingdom</td>\n",
              "      <td>2022-07-17</td>\n",
              "      <td>30.0</td>\n",
              "      <td>16.1</td>\n",
              "      <td>23.6</td>\n",
              "      <td>28.7</td>\n",
              "      <td>16.1</td>\n",
              "      <td>23.2</td>\n",
              "      <td>9.1</td>\n",
              "      <td>42.2</td>\n",
              "      <td>...</td>\n",
              "      <td>17.0</td>\n",
              "      <td>8</td>\n",
              "      <td>NaN</td>\n",
              "      <td>2022-07-17T05:03:18</td>\n",
              "      <td>2022-07-17T21:09:23</td>\n",
              "      <td>0.62</td>\n",
              "      <td>Clear</td>\n",
              "      <td>Clear conditions throughout the day.</td>\n",
              "      <td>clear-day</td>\n",
              "      <td>03680099999,D5621,03781099999,03672099999,0377...</td>\n",
              "    </tr>\n",
              "    <tr>\n",
              "      <th>3</th>\n",
              "      <td>London, England, United Kingdom</td>\n",
              "      <td>2022-07-18</td>\n",
              "      <td>36.6</td>\n",
              "      <td>18.0</td>\n",
              "      <td>27.7</td>\n",
              "      <td>34.6</td>\n",
              "      <td>18.0</td>\n",
              "      <td>26.8</td>\n",
              "      <td>9.9</td>\n",
              "      <td>37.0</td>\n",
              "      <td>...</td>\n",
              "      <td>16.1</td>\n",
              "      <td>8</td>\n",
              "      <td>NaN</td>\n",
              "      <td>2022-07-18T05:04:33</td>\n",
              "      <td>2022-07-18T21:08:16</td>\n",
              "      <td>0.66</td>\n",
              "      <td>Clear</td>\n",
              "      <td>Clear conditions throughout the day.</td>\n",
              "      <td>clear-day</td>\n",
              "      <td>03680099999,D5621,03781099999,03672099999,0377...</td>\n",
              "    </tr>\n",
              "    <tr>\n",
              "      <th>4</th>\n",
              "      <td>London, England, United Kingdom</td>\n",
              "      <td>2022-07-19</td>\n",
              "      <td>39.8</td>\n",
              "      <td>21.7</td>\n",
              "      <td>30.3</td>\n",
              "      <td>37.9</td>\n",
              "      <td>21.7</td>\n",
              "      <td>29.4</td>\n",
              "      <td>11.6</td>\n",
              "      <td>36.0</td>\n",
              "      <td>...</td>\n",
              "      <td>16.4</td>\n",
              "      <td>8</td>\n",
              "      <td>NaN</td>\n",
              "      <td>2022-07-19T05:05:49</td>\n",
              "      <td>2022-07-19T21:07:07</td>\n",
              "      <td>0.69</td>\n",
              "      <td>Rain</td>\n",
              "      <td>Clear conditions throughout the day with late ...</td>\n",
              "      <td>rain</td>\n",
              "      <td>03680099999,D5621,03781099999,03672099999,D412...</td>\n",
              "    </tr>\n",
              "    <tr>\n",
              "      <th>5</th>\n",
              "      <td>London, England, United Kingdom</td>\n",
              "      <td>2022-07-20</td>\n",
              "      <td>26.6</td>\n",
              "      <td>19.1</td>\n",
              "      <td>22.7</td>\n",
              "      <td>26.6</td>\n",
              "      <td>19.1</td>\n",
              "      <td>22.7</td>\n",
              "      <td>15.4</td>\n",
              "      <td>64.9</td>\n",
              "      <td>...</td>\n",
              "      <td>14.3</td>\n",
              "      <td>6</td>\n",
              "      <td>NaN</td>\n",
              "      <td>2022-07-20T05:07:06</td>\n",
              "      <td>2022-07-20T21:05:55</td>\n",
              "      <td>0.75</td>\n",
              "      <td>Rain, Partially cloudy</td>\n",
              "      <td>Partly cloudy throughout the day with rain.</td>\n",
              "      <td>rain</td>\n",
              "      <td>03769099999,03680099999,D5621,03781099999,0367...</td>\n",
              "    </tr>\n",
              "  </tbody>\n",
              "</table>\n",
              "<p>6 rows × 33 columns</p>\n",
              "</div>"
            ],
            "text/plain": [
              "                              name    datetime  tempmax  tempmin  temp  \\\n",
              "0  London, England, United Kingdom  2022-07-15     25.5     14.6  20.6   \n",
              "1  London, England, United Kingdom  2022-07-16     27.8     15.3  21.8   \n",
              "2  London, England, United Kingdom  2022-07-17     30.0     16.1  23.6   \n",
              "3  London, England, United Kingdom  2022-07-18     36.6     18.0  27.7   \n",
              "4  London, England, United Kingdom  2022-07-19     39.8     21.7  30.3   \n",
              "5  London, England, United Kingdom  2022-07-20     26.6     19.1  22.7   \n",
              "\n",
              "   feelslikemax  feelslikemin  feelslike   dew  humidity  ...  solarenergy  \\\n",
              "0          25.5          14.6       20.6   8.3      46.5  ...         17.8   \n",
              "1          27.1          15.3       21.7  10.9      51.8  ...         17.5   \n",
              "2          28.7          16.1       23.2   9.1      42.2  ...         17.0   \n",
              "3          34.6          18.0       26.8   9.9      37.0  ...         16.1   \n",
              "4          37.9          21.7       29.4  11.6      36.0  ...         16.4   \n",
              "5          26.6          19.1       22.7  15.4      64.9  ...         14.3   \n",
              "\n",
              "   uvindex  severerisk              sunrise               sunset  moonphase  \\\n",
              "0        9         NaN  2022-07-15T05:00:53  2022-07-15T21:11:28       0.56   \n",
              "1        8         NaN  2022-07-16T05:02:05  2022-07-16T21:10:27       0.59   \n",
              "2        8         NaN  2022-07-17T05:03:18  2022-07-17T21:09:23       0.62   \n",
              "3        8         NaN  2022-07-18T05:04:33  2022-07-18T21:08:16       0.66   \n",
              "4        8         NaN  2022-07-19T05:05:49  2022-07-19T21:07:07       0.69   \n",
              "5        6         NaN  2022-07-20T05:07:06  2022-07-20T21:05:55       0.75   \n",
              "\n",
              "               conditions                                        description  \\\n",
              "0                   Clear               Clear conditions throughout the day.   \n",
              "1                   Clear               Clear conditions throughout the day.   \n",
              "2                   Clear               Clear conditions throughout the day.   \n",
              "3                   Clear               Clear conditions throughout the day.   \n",
              "4                    Rain  Clear conditions throughout the day with late ...   \n",
              "5  Rain, Partially cloudy        Partly cloudy throughout the day with rain.   \n",
              "\n",
              "        icon                                           stations  \n",
              "0  clear-day  03769099999,03680099999,D5621,03781099999,0367...  \n",
              "1  clear-day  03769099999,03680099999,D5621,03781099999,0367...  \n",
              "2  clear-day  03680099999,D5621,03781099999,03672099999,0377...  \n",
              "3  clear-day  03680099999,D5621,03781099999,03672099999,0377...  \n",
              "4       rain  03680099999,D5621,03781099999,03672099999,D412...  \n",
              "5       rain  03769099999,03680099999,D5621,03781099999,0367...  \n",
              "\n",
              "[6 rows x 33 columns]"
            ]
          },
          "execution_count": 21,
          "metadata": {},
          "output_type": "execute_result"
        }
      ],
      "source": [
        "weather_url = f\"https://weather.visualcrossing.com/VisualCrossingWebServices/rest/services/timeline/London%2CUK/2022-07-15/2022-07-20?unitGroup=metric&contentType=csv&include=days&key={WEATHER_API_KEY}\"\n",
        "\n",
        "weather_response = requests.get(weather_url)\n",
        "\n",
        "results_df = pd.read_csv(weather_url)\n",
        "\n",
        "results_df"
      ]
    },
    {
      "cell_type": "markdown",
      "metadata": {},
      "source": [
        "## 2. Store Data\n",
        "### Add File to GitHub\n",
        "\n",
        "*Note: This is a quick & easy solution to host the data, but can also add file to IPFS, Arweave, GCP, AWS, etc...*"
      ]
    },
    {
      "cell_type": "code",
      "execution_count": 4,
      "metadata": {},
      "outputs": [],
      "source": [
        "# Create File from Query results\n",
        "results_df.to_csv(\"query_results.csv\", index=False)"
      ]
    },
    {
      "cell_type": "code",
      "execution_count": 5,
      "metadata": {},
      "outputs": [
        {
          "name": "stdout",
          "output_type": "stream",
          "text": [
            "[main f116129] Your commit message here\n",
            " 2 files changed, 45 insertions(+), 48 deletions(-)\n",
            "Git add, commit, and push successful!\n"
          ]
        },
        {
          "name": "stderr",
          "output_type": "stream",
          "text": [
            "To https://github.com/Demoniarc/ocean_data_nfts\n",
            "   f4c50e5..f116129  main -> main\n"
          ]
        }
      ],
      "source": [
        "# Store file in GitHub repo\n",
        "def git_add_commit_push(commit_message):\n",
        "    try:\n",
        "        subprocess.run([\"git\", \"add\", \".\"])\n",
        "        subprocess.run([\"git\", \"commit\", \"-m\", commit_message])\n",
        "        subprocess.run([\"git\", \"push\"])\n",
        "        print(\"Git add, commit, and push successful!\")\n",
        "    except Exception as e:\n",
        "        print(\"An error occurred:\", e)\n",
        "\n",
        "\n",
        "# Replace 'Your commit message here' with your desired commit message\n",
        "commit_message = \"Your commit message here\"\n",
        "\n",
        "git_add_commit_push(commit_message)"
      ]
    },
    {
      "cell_type": "markdown",
      "metadata": {
        "id": "jq9EbM_MRwLI"
      },
      "source": [
        "## 3. Create Data NFT\n",
        "### Add Data NFT to the OCEAN Protocol Marketplace\n",
        "\n",
        "* Marketplace: https://market.oceanprotocol.com/\n",
        "* SDK Docs: https://docs.oceanprotocol.com/developers/ocean.py/install"
      ]
    },
    {
      "cell_type": "code",
      "execution_count": 6,
      "metadata": {},
      "outputs": [],
      "source": [
        "# Connect to Blockchain\n",
        "connect_to_network(\"polygon-main\")\n",
        "config = get_config_dict(\"polygon-main\")\n",
        "ocean = Ocean(config)"
      ]
    },
    {
      "cell_type": "code",
      "execution_count": 7,
      "metadata": {
        "id": "ddWUcAVtvtQx"
      },
      "outputs": [
        {
          "name": "stdout",
          "output_type": "stream",
          "text": [
            "MATIC Balance: 7.505173214082293\n"
          ]
        }
      ],
      "source": [
        "# Connect to Wallet\n",
        "accounts.clear()\n",
        "private_key = os.getenv(\"PRIVATE_KEY\")\n",
        "wallet = accounts.add(private_key)\n",
        "print(\"MATIC Balance:\", wallet.balance() / 1e18)"
      ]
    },
    {
      "cell_type": "code",
      "execution_count": 8,
      "metadata": {},
      "outputs": [
        {
          "name": "stdout",
          "output_type": "stream",
          "text": [
            "priority_fee: 30016684671 max_fee: 229985019705 gas_limit: 2600017\n",
            "Transaction sent: \u001b[0;1;34m0x298cda714b24bc41730b631abc5765a4c366481922ebdc7a933ddc989c99157a\u001b[0;m\n",
            "  Max fee: \u001b[0;1;34m229.985019705\u001b[0;m gwei   Priority fee: \u001b[0;1;34m30.016684671\u001b[0;m gwei   Gas limit: \u001b[0;1;34m2600017\u001b[0;m   Nonce: \u001b[0;1;34m4\u001b[0;m\n",
            "  ERC721Factory.createNftWithErc20 confirmed   Block: \u001b[0;1;34m47139461\u001b[0;m   Gas used: \u001b[0;1;34m1595406\u001b[0;m (\u001b[0;1;34m61.36%\u001b[0;m)   Gas price: \u001b[0;1;34m134.442513418\u001b[0;m gwei\n",
            "\n"
          ]
        },
        {
          "name": "stderr",
          "output_type": "stream",
          "text": [
            "INFO:ocean_lib.data_provider.data_encryptor:Asset urls encrypted successfully, encrypted urls str: 0x043b46b064afe6312136ea8517a7e34dd790d574bf901f06c81d1768b54c3f072ea6430e906726bd1083a7f00e16e9f2940c5382ba4186bfc6d7db37bb90ca1c0db7048f14405f27eb8139ab58c34889201d1d0563a3a1ddaa3bb2691682aa832d4633b739c45586d1ba72d2706639b465d788412ffd06776194bb2d79e94d2a484c4e54476b704b77bce65994bc158f13bec1c39a15fcf89befe3b73e8780581dc4a9f9e07c39721c4a988a5fc61e8e7522c58cc0becfe4b65aa36196d9d36bfb71908da0326121187ce7aa70a87334ebabaf1fc584f36853d7981dc4b5b6fee18951fc5ecfcc8b00446b1999512aa070e61665c3cbfae8323e74e209a68c6234b25f34e38c3624e8f3ae097bfebe25775e876ce2feb7eed342dc87ae0577916912bba4d6368f69e6180f3918d2ad6f22be956c2efe1c7e6ffdaf7399d20930eed417138803ee53637a, encryptedEndpoint https://v4.provider.polygon.oceanprotocol.com/api/services/encrypt?chainId=137\n",
            "INFO:ocean_lib.data_provider.data_encryptor:Asset urls encrypted successfully, encrypted urls str: 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, encryptedEndpoint https://v4.provider.polygon.oceanprotocol.com/api/services/encrypt?chainId=137\n"
          ]
        },
        {
          "name": "stdout",
          "output_type": "stream",
          "text": [
            "Transaction sent: \u001b[0;1;34m0x25a49e33ff328f7d6a1e3077cb38c85d309a3ccd32417b1ce55de93b93fa2406\u001b[0;m\n",
            "  Max fee: \u001b[0;1;34m229.985019705\u001b[0;m gwei   Priority fee: \u001b[0;1;34m30.016684671\u001b[0;m gwei   Gas limit: \u001b[0;1;34m2600017\u001b[0;m   Nonce: \u001b[0;1;34m5\u001b[0;m\n",
            "  ERC721Template.setMetaData confirmed   Block: \u001b[0;1;34m47139466\u001b[0;m   Gas used: \u001b[0;1;34m211907\u001b[0;m (\u001b[0;1;34m8.15%\u001b[0;m)   Gas price: \u001b[0;1;34m132.491004556\u001b[0;m gwei\n",
            "\n",
            "Transaction sent: \u001b[0;1;34m0x49056d30acdb466953d0d909a12caba89a66e1d2c2ea3640cd0345ddddcb4600\u001b[0;m\n",
            "  Max fee: \u001b[0;1;34m229.985019705\u001b[0;m gwei   Priority fee: \u001b[0;1;34m30.016684671\u001b[0;m gwei   Gas limit: \u001b[0;1;34m2600017\u001b[0;m   Nonce: \u001b[0;1;34m6\u001b[0;m\n",
            "  ERC20Template.createDispenser confirmed   Block: \u001b[0;1;34m47139499\u001b[0;m   Gas used: \u001b[0;1;34m283122\u001b[0;m (\u001b[0;1;34m10.89%\u001b[0;m)   Gas price: \u001b[0;1;34m125.877321218\u001b[0;m gwei\n",
            "\n",
            "Data NFT published:\n",
            "  data_nft: symbol=Data NFT (2), address=0x499ad9dbB468cc7B7B74306F40905671a2859088\n",
            "  datatoken: symbol=DT1, address=0xeC2128A7050289C71a736e16af9dA9f38Ff4D4C7\n",
            "  did=did:op:f3eca17db312166fd8dc2f0190cc85a5b9a9e319dc124ff7f8ae010f515d7791\n",
            "  Link: https://market.oceanprotocol.com/asset/did:op:f3eca17db312166fd8dc2f0190cc85a5b9a9e319dc124ff7f8ae010f515d7791\n"
          ]
        }
      ],
      "source": [
        "# Create Data NFT\n",
        "name = \"Data NFT (2)\"\n",
        "\n",
        "# Link to File\n",
        "result = subprocess.run(\n",
        "    [\"git\", \"config\", \"--get\", \"user.name\"], stdout=subprocess.PIPE, text=True\n",
        ")\n",
        "github_username = result.stdout.strip().replace(\" \", \"\")\n",
        "url = f\"https://raw.githubusercontent.com/{github_username}/ocean_data_nfts/main/query_results.csv\"\n",
        "\n",
        "# Set Gas Fees\n",
        "priority_fee = chain.priority_fee\n",
        "max_fee = (chain.base_fee * 2) + priority_fee\n",
        "gas_limit = int((priority_fee + max_fee) / 1e5)\n",
        "print(\"priority_fee:\", priority_fee, \"max_fee:\", max_fee, \"gas_limit:\", gas_limit)\n",
        "\n",
        "# Configure Transaction Variables\n",
        "tx_dict = {\n",
        "    \"from\": wallet,\n",
        "    \"priority_fee\": priority_fee,\n",
        "    \"max_fee\": max_fee,\n",
        "    \"gas_limit\": gas_limit,\n",
        "}\n",
        "\n",
        "# Publish Data NFT\n",
        "(data_nft, datatoken, ddo) = ocean.assets.create_url_asset(name, url, tx_dict)\n",
        "\n",
        "time.sleep(30)\n",
        "\n",
        "# Set Price to Free\n",
        "datatoken.create_dispenser(tx_dict)\n",
        "\n",
        "print(\"Data NFT published:\")\n",
        "print(f\"  data_nft: symbol={data_nft.symbol()}, address={data_nft.address}\")\n",
        "print(f\"  datatoken: symbol={datatoken.symbol()}, address={datatoken.address}\")\n",
        "print(f\"  did={ddo.did}\")\n",
        "print(f\"  Link: https://market.oceanprotocol.com/asset/{ddo.did}\")"
      ]
    }
  ],
  "metadata": {
    "colab": {
      "collapsed_sections": [
        "lD0ohbZKhrSA",
        "QyP9sQLdhrSH"
      ],
      "provenance": [],
      "toc_visible": true
    },
    "kernelspec": {
      "display_name": "Python 3 (ipykernel)",
      "language": "python",
      "name": "python3"
    },
    "language_info": {
      "codemirror_mode": {
        "name": "ipython",
        "version": 3
      },
      "file_extension": ".py",
      "mimetype": "text/x-python",
      "name": "python",
      "nbconvert_exporter": "python",
      "pygments_lexer": "ipython3",
      "version": "3.8.17"
    }
  },
  "nbformat": 4,
  "nbformat_minor": 0
}
