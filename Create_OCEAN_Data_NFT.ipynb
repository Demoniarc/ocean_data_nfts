{
  "cells": [
    {
      "cell_type": "markdown",
      "metadata": {
        "id": "U2cIERTiROa_"
      },
      "source": [
        "# Create OCEAN Data NFT\n",
        "Quickly create OCEAN Data NFTs by querying blockchain data from Dune and Flipside.\n",
        "\n",
        "**Steps:**\n",
        "1. Get Data\n",
        "2. Store Data\n",
        "3. Create Data NFT"
      ]
    },
    {
      "cell_type": "code",
      "execution_count": 1,
      "metadata": {
        "id": "qC-Gh5WzVRUy"
      },
      "outputs": [],
      "source": [
        "import json\n",
        "import pandas as pd\n",
        "import os\n",
        "import time\n",
        "from dotenv import load_dotenv\n",
        "import requests\n",
        "import subprocess\n",
        "from flipside import Flipside\n",
        "from ocean_lib.web3_internal.utils import connect_to_network\n",
        "from ocean_lib.example_config import get_config_dict\n",
        "from ocean_lib.ocean.ocean import Ocean\n",
        "from brownie.network import accounts, chain\n",
        "\n",
        "# Load variables from .env file\n",
        "load_dotenv()\n",
        "DUNE_API_KEY = os.getenv(\"DUNE_API_KEY\")\n",
        "FLIPSIDE_API_KEY = os.getenv(\"FLIPSIDE_API_KEY\")"
      ]
    },
    {
      "cell_type": "markdown",
      "metadata": {
        "id": "DuFwUeDwRksV"
      },
      "source": [
        "## 1. Get Data\n",
        "### Flipside\n",
        "\n",
        "* SDK Docs: https://docs.flipsidecrypto.com/flipside-api/get-started"
      ]
    },
    {
      "cell_type": "code",
      "execution_count": 2,
      "metadata": {
        "id": "Gs3ndPZIRY5N"
      },
      "outputs": [],
      "source": [
        "# Query Flipside using their Python SDK\n",
        "def query_flipside(sql):\n",
        "    flipside = Flipside(FLIPSIDE_API_KEY, \"https://api-v2.flipsidecrypto.xyz\")\n",
        "    results = flipside.query(sql)\n",
        "    results_df = pd.DataFrame(results.rows, columns=results.columns).drop(\n",
        "        columns=[\"__row_index\"]\n",
        "    )\n",
        "    return results_df"
      ]
    },
    {
      "cell_type": "code",
      "execution_count": 3,
      "metadata": {
        "id": "QOVVpyiWhrR3"
      },
      "outputs": [
        {
          "data": {
            "text/html": [
              "<div>\n",
              "<style scoped>\n",
              "    .dataframe tbody tr th:only-of-type {\n",
              "        vertical-align: middle;\n",
              "    }\n",
              "\n",
              "    .dataframe tbody tr th {\n",
              "        vertical-align: top;\n",
              "    }\n",
              "\n",
              "    .dataframe thead th {\n",
              "        text-align: right;\n",
              "    }\n",
              "</style>\n",
              "<table border=\"1\" class=\"dataframe\">\n",
              "  <thead>\n",
              "    <tr style=\"text-align: right;\">\n",
              "      <th></th>\n",
              "      <th>dt</th>\n",
              "      <th>tx_ct</th>\n",
              "    </tr>\n",
              "  </thead>\n",
              "  <tbody>\n",
              "    <tr>\n",
              "      <th>0</th>\n",
              "      <td>2023-08-28T00:00:00.000Z</td>\n",
              "      <td>356396</td>\n",
              "    </tr>\n",
              "    <tr>\n",
              "      <th>1</th>\n",
              "      <td>2023-08-29T00:00:00.000Z</td>\n",
              "      <td>1019692</td>\n",
              "    </tr>\n",
              "    <tr>\n",
              "      <th>2</th>\n",
              "      <td>2023-08-30T00:00:00.000Z</td>\n",
              "      <td>1027316</td>\n",
              "    </tr>\n",
              "    <tr>\n",
              "      <th>3</th>\n",
              "      <td>2023-08-31T00:00:00.000Z</td>\n",
              "      <td>1010128</td>\n",
              "    </tr>\n",
              "    <tr>\n",
              "      <th>4</th>\n",
              "      <td>2023-09-01T00:00:00.000Z</td>\n",
              "      <td>1006635</td>\n",
              "    </tr>\n",
              "    <tr>\n",
              "      <th>5</th>\n",
              "      <td>2023-09-02T00:00:00.000Z</td>\n",
              "      <td>1024172</td>\n",
              "    </tr>\n",
              "    <tr>\n",
              "      <th>6</th>\n",
              "      <td>2023-09-03T00:00:00.000Z</td>\n",
              "      <td>1038128</td>\n",
              "    </tr>\n",
              "    <tr>\n",
              "      <th>7</th>\n",
              "      <td>2023-09-04T00:00:00.000Z</td>\n",
              "      <td>610216</td>\n",
              "    </tr>\n",
              "  </tbody>\n",
              "</table>\n",
              "</div>"
            ],
            "text/plain": [
              "                         dt    tx_ct\n",
              "0  2023-08-28T00:00:00.000Z   356396\n",
              "1  2023-08-29T00:00:00.000Z  1019692\n",
              "2  2023-08-30T00:00:00.000Z  1027316\n",
              "3  2023-08-31T00:00:00.000Z  1010128\n",
              "4  2023-09-01T00:00:00.000Z  1006635\n",
              "5  2023-09-02T00:00:00.000Z  1024172\n",
              "6  2023-09-03T00:00:00.000Z  1038128\n",
              "7  2023-09-04T00:00:00.000Z   610216"
            ]
          },
          "execution_count": 3,
          "metadata": {},
          "output_type": "execute_result"
        }
      ],
      "source": [
        "sql = \"\"\"\n",
        "SELECT\n",
        "  date(block_timestamp) as dt,\n",
        "  count(distinct tx_hash) as tx_ct\n",
        "FROM ethereum.core.fact_transactions\n",
        "WHERE block_timestamp >= GETDATE() - interval'7 days'\n",
        "GROUP BY 1\n",
        "order by 1 asc\n",
        "\"\"\"\n",
        "results_df = query_flipside(sql)\n",
        "results_df"
      ]
    },
    {
      "cell_type": "markdown",
      "metadata": {},
      "source": [
        "### Dune\n",
        "\n",
        "* API Docs: https://dune.com/docs/api/"
      ]
    },
    {
      "cell_type": "code",
      "execution_count": 6,
      "metadata": {},
      "outputs": [],
      "source": [
        "# Query Dune Analytics via API\n",
        "def query_dune(q):\n",
        "    url = f\"https://api.dune.com/api/v1/query/{q}/results?api_key={DUNE_API_KEY}\"\n",
        "    response = requests.get(url)\n",
        "    results_json = json.loads(response.text)[\"result\"][\"rows\"]\n",
        "    results_df = pd.DataFrame.from_dict(results_json)\n",
        "    return results_df"
      ]
    },
    {
      "cell_type": "code",
      "execution_count": 7,
      "metadata": {},
      "outputs": [
        {
          "ename": "KeyError",
          "evalue": "'result'",
          "output_type": "error",
          "traceback": [
            "\u001b[0;31m---------------------------------------------------------------------------\u001b[0m",
            "\u001b[0;31mKeyError\u001b[0m                                  Traceback (most recent call last)",
            "Cell \u001b[0;32mIn[7], line 2\u001b[0m\n\u001b[1;32m      1\u001b[0m dune_query_id \u001b[39m=\u001b[39m \u001b[39m2847682\u001b[39m  \u001b[39m# Query URL: https://dune.com/queries/2847682\u001b[39;00m\n\u001b[0;32m----> 2\u001b[0m results_df \u001b[39m=\u001b[39m query_dune(dune_query_id)\n\u001b[1;32m      3\u001b[0m results_df\n",
            "Cell \u001b[0;32mIn[6], line 5\u001b[0m, in \u001b[0;36mquery_dune\u001b[0;34m(q)\u001b[0m\n\u001b[1;32m      3\u001b[0m url \u001b[39m=\u001b[39m \u001b[39mf\u001b[39m\u001b[39m\"\u001b[39m\u001b[39mhttps://api.dune.com/api/v1/query/\u001b[39m\u001b[39m{\u001b[39;00mq\u001b[39m}\u001b[39;00m\u001b[39m/results?api_key=\u001b[39m\u001b[39m{\u001b[39;00mDUNE_API_KEY\u001b[39m}\u001b[39;00m\u001b[39m\"\u001b[39m\n\u001b[1;32m      4\u001b[0m response \u001b[39m=\u001b[39m requests\u001b[39m.\u001b[39mget(url)\n\u001b[0;32m----> 5\u001b[0m results_json \u001b[39m=\u001b[39m json\u001b[39m.\u001b[39;49mloads(response\u001b[39m.\u001b[39;49mtext)[\u001b[39m\"\u001b[39;49m\u001b[39mresult\u001b[39;49m\u001b[39m\"\u001b[39;49m][\u001b[39m\"\u001b[39m\u001b[39mrows\u001b[39m\u001b[39m\"\u001b[39m]\n\u001b[1;32m      6\u001b[0m results_df \u001b[39m=\u001b[39m pd\u001b[39m.\u001b[39mDataFrame\u001b[39m.\u001b[39mfrom_dict(results_json)\n\u001b[1;32m      7\u001b[0m \u001b[39mreturn\u001b[39;00m results_df\n",
            "\u001b[0;31mKeyError\u001b[0m: 'result'"
          ]
        }
      ],
      "source": [
        "dune_query_id = 2847682  # Query URL: https://dune.com/queries/2847682\n",
        "results_df = query_dune(dune_query_id)\n",
        "results_df"
      ]
    },
    {
      "cell_type": "markdown",
      "metadata": {},
      "source": [
        "## 2. Store Data\n",
        "### Add File to GitHub\n",
        "\n",
        "*Note: This is a quick & easy solution to host the data, but can also add file to IPFS, Arweave, GCP, AWS, etc...*"
      ]
    },
    {
      "cell_type": "code",
      "execution_count": 4,
      "metadata": {},
      "outputs": [],
      "source": [
        "# Create File from Query results\n",
        "results_df.to_csv(\"query_results.csv\", index=False)"
      ]
    },
    {
      "cell_type": "code",
      "execution_count": 5,
      "metadata": {},
      "outputs": [
        {
          "name": "stdout",
          "output_type": "stream",
          "text": [
            "[main f4c50e5] Your commit message here\n",
            " 2 files changed, 47 insertions(+), 33 deletions(-)\n",
            "Git add, commit, and push successful!\n"
          ]
        },
        {
          "name": "stderr",
          "output_type": "stream",
          "text": [
            "To https://github.com/Demoniarc/ocean_data_nfts\n",
            "   2593990..f4c50e5  main -> main\n"
          ]
        }
      ],
      "source": [
        "# Store file in GitHub repo\n",
        "def git_add_commit_push(commit_message):\n",
        "    try:\n",
        "        subprocess.run([\"git\", \"add\", \".\"])\n",
        "        subprocess.run([\"git\", \"commit\", \"-m\", commit_message])\n",
        "        subprocess.run([\"git\", \"push\"])\n",
        "        print(\"Git add, commit, and push successful!\")\n",
        "    except Exception as e:\n",
        "        print(\"An error occurred:\", e)\n",
        "\n",
        "\n",
        "# Replace 'Your commit message here' with your desired commit message\n",
        "commit_message = \"Your commit message here\"\n",
        "\n",
        "git_add_commit_push(commit_message)"
      ]
    },
    {
      "cell_type": "markdown",
      "metadata": {
        "id": "jq9EbM_MRwLI"
      },
      "source": [
        "## 3. Create Data NFT\n",
        "### Add Data NFT to the OCEAN Protocol Marketplace\n",
        "\n",
        "* Marketplace: https://market.oceanprotocol.com/\n",
        "* SDK Docs: https://docs.oceanprotocol.com/developers/ocean.py/install"
      ]
    },
    {
      "cell_type": "code",
      "execution_count": 6,
      "metadata": {},
      "outputs": [],
      "source": [
        "# Connect to Blockchain\n",
        "connect_to_network(\"polygon-main\")\n",
        "config = get_config_dict(\"polygon-main\")\n",
        "ocean = Ocean(config)"
      ]
    },
    {
      "cell_type": "code",
      "execution_count": 9,
      "metadata": {
        "id": "ddWUcAVtvtQx"
      },
      "outputs": [
        {
          "name": "stdout",
          "output_type": "stream",
          "text": [
            "MATIC Balance: 7.769962592968272\n"
          ]
        }
      ],
      "source": [
        "# Connect to Wallet\n",
        "accounts.clear()\n",
        "private_key = os.getenv(\"PRIVATE_KEY\")\n",
        "wallet = accounts.add(private_key)\n",
        "print(\"MATIC Balance:\", wallet.balance() / 1e18)"
      ]
    },
    {
      "cell_type": "code",
      "execution_count": 10,
      "metadata": {},
      "outputs": [
        {
          "name": "stdout",
          "output_type": "stream",
          "text": [
            "priority_fee: 30000000000 max_fee: 199099317136 gas_limit: 2290993\n",
            "Transaction sent: \u001b[0;1;34m0xb1f8a31dfa283bae8d15257795b2031f0c6d7478e6fdf18e092ae9ee965ed54a\u001b[0;m\n",
            "  Max fee: \u001b[0;1;34m199.099317136\u001b[0;m gwei   Priority fee: \u001b[0;1;34m30.0\u001b[0;m gwei   Gas limit: \u001b[0;1;34m2290993\u001b[0;m   Nonce: \u001b[0;1;34m1\u001b[0;m\n",
            "  ERC721Factory.createNftWithErc20 confirmed   Block: \u001b[0;1;34m47139140\u001b[0;m   Gas used: \u001b[0;1;34m1595610\u001b[0;m (\u001b[0;1;34m69.65%\u001b[0;m)   Gas price: \u001b[0;1;34m127.561655414\u001b[0;m gwei\n",
            "\n"
          ]
        },
        {
          "name": "stderr",
          "output_type": "stream",
          "text": [
            "INFO:ocean_lib.data_provider.data_encryptor:Asset urls encrypted successfully, encrypted urls str: 0x04f36ad29b15d4df7ea813831c5491f86266a503face3663ab1b6cd450464004918519135f93f879273c44e09adaaf2ea89dbf39046aa47a50a71354e4301fdad3510aba735345762ab9cfe96af3f7e90d01db5eee2cb72feb172a9de2d3f87db2bb6e5ab7cd058ffe9aba352217cfedb83f5a33b30b57a365677be2e2e8b1352b0ec7c955e5a15651fcf9ea3529a0e0375df34a0554d146b7ab6af051406acac64c9477badf08550b647aa3f4865f8a29b75a2747b6c2e36397edf8d781f2ca6de53bd4ab5df8b028a2c87a9c5dcbbc70a7859fc56d3969d4e34eda0242feeca54285bc300b0e36a371b0caa6616aa342103e4a647072140ca075e789e7d66cdc64f2c7cf51f2a02bf17a98ef37506051a5ad65c9afdf71202c146564d7a598f7f53c2349bbf176fdc9fbae95a228c43eca40153f75c0a2ee2ce0a654c172f80d569389d458f8de3548, encryptedEndpoint https://v4.provider.polygon.oceanprotocol.com/api/services/encrypt?chainId=137\n",
            "INFO:ocean_lib.data_provider.data_encryptor:Asset urls encrypted successfully, encrypted urls str: 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, encryptedEndpoint https://v4.provider.polygon.oceanprotocol.com/api/services/encrypt?chainId=137\n"
          ]
        },
        {
          "name": "stdout",
          "output_type": "stream",
          "text": [
            "Transaction sent: \u001b[0;1;34m0xd57abae033c9aa529c77d42f0b9e1e805d87ebff041b603468b0e5069e653b45\u001b[0;m\n",
            "  Max fee: \u001b[0;1;34m199.099317136\u001b[0;m gwei   Priority fee: \u001b[0;1;34m30.0\u001b[0;m gwei   Gas limit: \u001b[0;1;34m2290993\u001b[0;m   Nonce: \u001b[0;1;34m2\u001b[0;m\n",
            "  ERC721Template.setMetaData confirmed   Block: \u001b[0;1;34m47139156\u001b[0;m   Gas used: \u001b[0;1;34m211883\u001b[0;m (\u001b[0;1;34m9.25%\u001b[0;m)   Gas price: \u001b[0;1;34m126.062436866\u001b[0;m gwei\n",
            "\n",
            "Transaction sent: \u001b[0;1;34m0xe17053fee3d1070acfc281395d1242a7458e32a7ecbdecb03d8212ccd8e57cc0\u001b[0;m\n",
            "  Max fee: \u001b[0;1;34m199.099317136\u001b[0;m gwei   Priority fee: \u001b[0;1;34m30.0\u001b[0;m gwei   Gas limit: \u001b[0;1;34m2290993\u001b[0;m   Nonce: \u001b[0;1;34m3\u001b[0;m\n",
            "  ERC20Template.createDispenser confirmed   Block: \u001b[0;1;34m47139185\u001b[0;m   Gas used: \u001b[0;1;34m283122\u001b[0;m (\u001b[0;1;34m12.36%\u001b[0;m)   Gas price: \u001b[0;1;34m121.997720348\u001b[0;m gwei\n",
            "\n",
            "Data NFT published:\n",
            "  data_nft: symbol=Data NFT (Dune), address=0x5E8c219C6f0d445686531449B6991410774A6d84\n",
            "  datatoken: symbol=DT1, address=0x92CC8c348F851FA29E4f0033256Bf32a2755A923\n",
            "  did=did:op:78f800cebc1af9dee70e71e39146fccfa350b82cd4ef5c2684305c98a0193eff\n",
            "  Link: https://market.oceanprotocol.com/asset/did:op:78f800cebc1af9dee70e71e39146fccfa350b82cd4ef5c2684305c98a0193eff\n"
          ]
        }
      ],
      "source": [
        "# Create Data NFT\n",
        "name = \"Data NFT (Dune)\"\n",
        "\n",
        "# Link to File\n",
        "result = subprocess.run(\n",
        "    [\"git\", \"config\", \"--get\", \"user.name\"], stdout=subprocess.PIPE, text=True\n",
        ")\n",
        "github_username = result.stdout.strip().replace(\" \", \"\")\n",
        "url = f\"https://raw.githubusercontent.com/{github_username}/ocean_data_nfts/main/query_results.csv\"\n",
        "\n",
        "# Set Gas Fees\n",
        "priority_fee = chain.priority_fee\n",
        "max_fee = (chain.base_fee * 2) + priority_fee\n",
        "gas_limit = int((priority_fee + max_fee) / 1e5)\n",
        "print(\"priority_fee:\", priority_fee, \"max_fee:\", max_fee, \"gas_limit:\", gas_limit)\n",
        "\n",
        "# Configure Transaction Variables\n",
        "tx_dict = {\n",
        "    \"from\": wallet,\n",
        "    \"priority_fee\": priority_fee,\n",
        "    \"max_fee\": max_fee,\n",
        "    \"gas_limit\": gas_limit,\n",
        "}\n",
        "\n",
        "# Publish Data NFT\n",
        "(data_nft, datatoken, ddo) = ocean.assets.create_url_asset(name, url, tx_dict)\n",
        "\n",
        "time.sleep(30)\n",
        "\n",
        "# Set Price to Free\n",
        "datatoken.create_dispenser(tx_dict)\n",
        "\n",
        "print(\"Data NFT published:\")\n",
        "print(f\"  data_nft: symbol={data_nft.symbol()}, address={data_nft.address}\")\n",
        "print(f\"  datatoken: symbol={datatoken.symbol()}, address={datatoken.address}\")\n",
        "print(f\"  did={ddo.did}\")\n",
        "print(f\"  Link: https://market.oceanprotocol.com/asset/{ddo.did}\")"
      ]
    }
  ],
  "metadata": {
    "colab": {
      "collapsed_sections": [
        "lD0ohbZKhrSA",
        "QyP9sQLdhrSH"
      ],
      "provenance": [],
      "toc_visible": true
    },
    "kernelspec": {
      "display_name": "Python 3 (ipykernel)",
      "language": "python",
      "name": "python3"
    },
    "language_info": {
      "codemirror_mode": {
        "name": "ipython",
        "version": 3
      },
      "file_extension": ".py",
      "mimetype": "text/x-python",
      "name": "python",
      "nbconvert_exporter": "python",
      "pygments_lexer": "ipython3",
      "version": "3.8.17"
    }
  },
  "nbformat": 4,
  "nbformat_minor": 0
}
