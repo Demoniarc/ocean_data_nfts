{
  "cells": [
    {
      "cell_type": "markdown",
      "metadata": {
        "id": "U2cIERTiROa_"
      },
      "source": [
        "# Create OCEAN Data NFT\n",
        "Quickly create OCEAN Data NFTs by querying blockchain data from Dune and Flipside.\n",
        "\n",
        "**Steps:**\n",
        "1. Get Data\n",
        "2. Store Data\n",
        "3. Create Data NFT"
      ]
    },
    {
      "cell_type": "code",
      "execution_count": 1,
      "metadata": {
        "id": "qC-Gh5WzVRUy"
      },
      "outputs": [],
      "source": [
        "import json\n",
        "import pandas as pd\n",
        "import os\n",
        "import time\n",
        "from dotenv import load_dotenv\n",
        "import requests\n",
        "import subprocess\n",
        "from flipside import Flipside\n",
        "from ocean_lib.web3_internal.utils import connect_to_network\n",
        "from ocean_lib.example_config import get_config_dict\n",
        "from ocean_lib.ocean.ocean import Ocean\n",
        "from brownie.network import accounts, chain\n",
        "\n",
        "# Load variables from .env file\n",
        "load_dotenv()\n",
        "DUNE_API_KEY = os.getenv(\"DUNE_API_KEY\")\n",
        "FLIPSIDE_API_KEY = os.getenv(\"FLIPSIDE_API_KEY\")\n",
        "WEATHER_API_KEY = os.getenv(\"WEATHER_API_KEY\")"
      ]
    },
    {
      "cell_type": "markdown",
      "metadata": {
        "id": "DuFwUeDwRksV"
      },
      "source": [
        "## 1. Get Data\n",
        "### Flipside\n",
        "\n",
        "* SDK Docs: https://docs.flipsidecrypto.com/flipside-api/get-started"
      ]
    },
    {
      "cell_type": "code",
      "execution_count": 2,
      "metadata": {
        "id": "Gs3ndPZIRY5N"
      },
      "outputs": [],
      "source": [
        "# Query Flipside using their Python SDK\n",
        "def query_flipside(sql):\n",
        "    flipside = Flipside(FLIPSIDE_API_KEY, \"https://api-v2.flipsidecrypto.xyz\")\n",
        "    results = flipside.query(sql)\n",
        "    results_df = pd.DataFrame(results.rows, columns=results.columns).drop(\n",
        "        columns=[\"__row_index\"]\n",
        "    )\n",
        "    return results_df"
      ]
    },
    {
      "cell_type": "code",
      "execution_count": 3,
      "metadata": {
        "id": "QOVVpyiWhrR3"
      },
      "outputs": [
        {
          "data": {
            "text/html": [
              "<div>\n",
              "<style scoped>\n",
              "    .dataframe tbody tr th:only-of-type {\n",
              "        vertical-align: middle;\n",
              "    }\n",
              "\n",
              "    .dataframe tbody tr th {\n",
              "        vertical-align: top;\n",
              "    }\n",
              "\n",
              "    .dataframe thead th {\n",
              "        text-align: right;\n",
              "    }\n",
              "</style>\n",
              "<table border=\"1\" class=\"dataframe\">\n",
              "  <thead>\n",
              "    <tr style=\"text-align: right;\">\n",
              "      <th></th>\n",
              "      <th>dt</th>\n",
              "      <th>tx_ct</th>\n",
              "    </tr>\n",
              "  </thead>\n",
              "  <tbody>\n",
              "    <tr>\n",
              "      <th>0</th>\n",
              "      <td>2023-08-28T00:00:00.000Z</td>\n",
              "      <td>306382</td>\n",
              "    </tr>\n",
              "    <tr>\n",
              "      <th>1</th>\n",
              "      <td>2023-08-29T00:00:00.000Z</td>\n",
              "      <td>1019692</td>\n",
              "    </tr>\n",
              "    <tr>\n",
              "      <th>2</th>\n",
              "      <td>2023-08-30T00:00:00.000Z</td>\n",
              "      <td>1027316</td>\n",
              "    </tr>\n",
              "    <tr>\n",
              "      <th>3</th>\n",
              "      <td>2023-08-31T00:00:00.000Z</td>\n",
              "      <td>1010128</td>\n",
              "    </tr>\n",
              "    <tr>\n",
              "      <th>4</th>\n",
              "      <td>2023-09-01T00:00:00.000Z</td>\n",
              "      <td>1006635</td>\n",
              "    </tr>\n",
              "    <tr>\n",
              "      <th>5</th>\n",
              "      <td>2023-09-02T00:00:00.000Z</td>\n",
              "      <td>1024172</td>\n",
              "    </tr>\n",
              "    <tr>\n",
              "      <th>6</th>\n",
              "      <td>2023-09-03T00:00:00.000Z</td>\n",
              "      <td>1038128</td>\n",
              "    </tr>\n",
              "    <tr>\n",
              "      <th>7</th>\n",
              "      <td>2023-09-04T00:00:00.000Z</td>\n",
              "      <td>661811</td>\n",
              "    </tr>\n",
              "  </tbody>\n",
              "</table>\n",
              "</div>"
            ],
            "text/plain": [
              "                         dt    tx_ct\n",
              "0  2023-08-28T00:00:00.000Z   306382\n",
              "1  2023-08-29T00:00:00.000Z  1019692\n",
              "2  2023-08-30T00:00:00.000Z  1027316\n",
              "3  2023-08-31T00:00:00.000Z  1010128\n",
              "4  2023-09-01T00:00:00.000Z  1006635\n",
              "5  2023-09-02T00:00:00.000Z  1024172\n",
              "6  2023-09-03T00:00:00.000Z  1038128\n",
              "7  2023-09-04T00:00:00.000Z   661811"
            ]
          },
          "execution_count": 3,
          "metadata": {},
          "output_type": "execute_result"
        }
      ],
      "source": [
        "sql = \"\"\"\n",
        "SELECT\n",
        "  date(block_timestamp) as dt,\n",
        "  count(distinct tx_hash) as tx_ct\n",
        "FROM ethereum.core.fact_transactions\n",
        "WHERE block_timestamp >= GETDATE() - interval'7 days'\n",
        "GROUP BY 1\n",
        "order by 1 asc\n",
        "\"\"\"\n",
        "results_df = query_flipside(sql)\n",
        "results_df"
      ]
    },
    {
      "cell_type": "markdown",
      "metadata": {},
      "source": [
        "### Dune\n",
        "\n",
        "* API Docs: https://dune.com/docs/api/"
      ]
    },
    {
      "cell_type": "code",
      "execution_count": 6,
      "metadata": {},
      "outputs": [],
      "source": [
        "# Query Dune Analytics via API\n",
        "def query_dune(q):\n",
        "    url = f\"https://api.dune.com/api/v1/query/{q}/results?api_key={DUNE_API_KEY}\"\n",
        "    response = requests.get(url)\n",
        "    results_json = json.loads(response.text)[\"result\"][\"rows\"]\n",
        "    results_df = pd.DataFrame.from_dict(results_json)\n",
        "    return results_df"
      ]
    },
    {
      "cell_type": "code",
      "execution_count": 7,
      "metadata": {},
      "outputs": [
        {
          "ename": "KeyError",
          "evalue": "'result'",
          "output_type": "error",
          "traceback": [
            "\u001b[0;31m---------------------------------------------------------------------------\u001b[0m",
            "\u001b[0;31mKeyError\u001b[0m                                  Traceback (most recent call last)",
            "Cell \u001b[0;32mIn[7], line 2\u001b[0m\n\u001b[1;32m      1\u001b[0m dune_query_id \u001b[39m=\u001b[39m \u001b[39m2847682\u001b[39m  \u001b[39m# Query URL: https://dune.com/queries/2847682\u001b[39;00m\n\u001b[0;32m----> 2\u001b[0m results_df \u001b[39m=\u001b[39m query_dune(dune_query_id)\n\u001b[1;32m      3\u001b[0m results_df\n",
            "Cell \u001b[0;32mIn[6], line 5\u001b[0m, in \u001b[0;36mquery_dune\u001b[0;34m(q)\u001b[0m\n\u001b[1;32m      3\u001b[0m url \u001b[39m=\u001b[39m \u001b[39mf\u001b[39m\u001b[39m\"\u001b[39m\u001b[39mhttps://api.dune.com/api/v1/query/\u001b[39m\u001b[39m{\u001b[39;00mq\u001b[39m}\u001b[39;00m\u001b[39m/results?api_key=\u001b[39m\u001b[39m{\u001b[39;00mDUNE_API_KEY\u001b[39m}\u001b[39;00m\u001b[39m\"\u001b[39m\n\u001b[1;32m      4\u001b[0m response \u001b[39m=\u001b[39m requests\u001b[39m.\u001b[39mget(url)\n\u001b[0;32m----> 5\u001b[0m results_json \u001b[39m=\u001b[39m json\u001b[39m.\u001b[39;49mloads(response\u001b[39m.\u001b[39;49mtext)[\u001b[39m\"\u001b[39;49m\u001b[39mresult\u001b[39;49m\u001b[39m\"\u001b[39;49m][\u001b[39m\"\u001b[39m\u001b[39mrows\u001b[39m\u001b[39m\"\u001b[39m]\n\u001b[1;32m      6\u001b[0m results_df \u001b[39m=\u001b[39m pd\u001b[39m.\u001b[39mDataFrame\u001b[39m.\u001b[39mfrom_dict(results_json)\n\u001b[1;32m      7\u001b[0m \u001b[39mreturn\u001b[39;00m results_df\n",
            "\u001b[0;31mKeyError\u001b[0m: 'result'"
          ]
        }
      ],
      "source": [
        "dune_query_id = 2847682  # Query URL: https://dune.com/queries/2847682\n",
        "results_df = query_dune(dune_query_id)\n",
        "results_df"
      ]
    },
    {
      "cell_type": "markdown",
      "metadata": {},
      "source": [
        "### Weather API\n",
        "\n",
        "* API Docs: https://www.visualcrossing.com/resources/documentation/weather-api/timeline-weather-api/"
      ]
    },
    {
      "cell_type": "code",
      "execution_count": 27,
      "metadata": {},
      "outputs": [
        {
          "data": {
            "text/html": [
              "<div>\n",
              "<style scoped>\n",
              "    .dataframe tbody tr th:only-of-type {\n",
              "        vertical-align: middle;\n",
              "    }\n",
              "\n",
              "    .dataframe tbody tr th {\n",
              "        vertical-align: top;\n",
              "    }\n",
              "\n",
              "    .dataframe thead th {\n",
              "        text-align: right;\n",
              "    }\n",
              "</style>\n",
              "<table border=\"1\" class=\"dataframe\">\n",
              "  <thead>\n",
              "    <tr style=\"text-align: right;\">\n",
              "      <th></th>\n",
              "      <th>name</th>\n",
              "      <th>datetime</th>\n",
              "      <th>tempmax</th>\n",
              "      <th>tempmin</th>\n",
              "      <th>temp</th>\n",
              "      <th>feelslikemax</th>\n",
              "      <th>feelslikemin</th>\n",
              "      <th>feelslike</th>\n",
              "      <th>dew</th>\n",
              "      <th>humidity</th>\n",
              "      <th>...</th>\n",
              "      <th>solarenergy</th>\n",
              "      <th>uvindex</th>\n",
              "      <th>severerisk</th>\n",
              "      <th>sunrise</th>\n",
              "      <th>sunset</th>\n",
              "      <th>moonphase</th>\n",
              "      <th>conditions</th>\n",
              "      <th>description</th>\n",
              "      <th>icon</th>\n",
              "      <th>stations</th>\n",
              "    </tr>\n",
              "  </thead>\n",
              "  <tbody>\n",
              "    <tr>\n",
              "      <th>0</th>\n",
              "      <td>London, England, United Kingdom</td>\n",
              "      <td>2022-07-15</td>\n",
              "      <td>25.5</td>\n",
              "      <td>14.6</td>\n",
              "      <td>20.6</td>\n",
              "      <td>25.5</td>\n",
              "      <td>14.6</td>\n",
              "      <td>20.6</td>\n",
              "      <td>8.3</td>\n",
              "      <td>46.5</td>\n",
              "      <td>...</td>\n",
              "      <td>17.8</td>\n",
              "      <td>9</td>\n",
              "      <td>NaN</td>\n",
              "      <td>2022-07-15T05:00:53</td>\n",
              "      <td>2022-07-15T21:11:28</td>\n",
              "      <td>0.56</td>\n",
              "      <td>Clear</td>\n",
              "      <td>Clear conditions throughout the day.</td>\n",
              "      <td>clear-day</td>\n",
              "      <td>03769099999,03680099999,D5621,03781099999,0367...</td>\n",
              "    </tr>\n",
              "    <tr>\n",
              "      <th>1</th>\n",
              "      <td>London, England, United Kingdom</td>\n",
              "      <td>2022-07-16</td>\n",
              "      <td>27.8</td>\n",
              "      <td>15.3</td>\n",
              "      <td>21.8</td>\n",
              "      <td>27.1</td>\n",
              "      <td>15.3</td>\n",
              "      <td>21.7</td>\n",
              "      <td>10.9</td>\n",
              "      <td>51.8</td>\n",
              "      <td>...</td>\n",
              "      <td>17.5</td>\n",
              "      <td>8</td>\n",
              "      <td>NaN</td>\n",
              "      <td>2022-07-16T05:02:05</td>\n",
              "      <td>2022-07-16T21:10:27</td>\n",
              "      <td>0.59</td>\n",
              "      <td>Clear</td>\n",
              "      <td>Clear conditions throughout the day.</td>\n",
              "      <td>clear-day</td>\n",
              "      <td>03769099999,03680099999,D5621,03781099999,0367...</td>\n",
              "    </tr>\n",
              "    <tr>\n",
              "      <th>2</th>\n",
              "      <td>London, England, United Kingdom</td>\n",
              "      <td>2022-07-17</td>\n",
              "      <td>30.0</td>\n",
              "      <td>16.1</td>\n",
              "      <td>23.6</td>\n",
              "      <td>28.7</td>\n",
              "      <td>16.1</td>\n",
              "      <td>23.2</td>\n",
              "      <td>9.1</td>\n",
              "      <td>42.2</td>\n",
              "      <td>...</td>\n",
              "      <td>17.0</td>\n",
              "      <td>8</td>\n",
              "      <td>NaN</td>\n",
              "      <td>2022-07-17T05:03:18</td>\n",
              "      <td>2022-07-17T21:09:23</td>\n",
              "      <td>0.62</td>\n",
              "      <td>Clear</td>\n",
              "      <td>Clear conditions throughout the day.</td>\n",
              "      <td>clear-day</td>\n",
              "      <td>03680099999,D5621,03781099999,03672099999,0377...</td>\n",
              "    </tr>\n",
              "    <tr>\n",
              "      <th>3</th>\n",
              "      <td>London, England, United Kingdom</td>\n",
              "      <td>2022-07-18</td>\n",
              "      <td>36.6</td>\n",
              "      <td>18.0</td>\n",
              "      <td>27.7</td>\n",
              "      <td>34.6</td>\n",
              "      <td>18.0</td>\n",
              "      <td>26.8</td>\n",
              "      <td>9.9</td>\n",
              "      <td>37.0</td>\n",
              "      <td>...</td>\n",
              "      <td>16.1</td>\n",
              "      <td>8</td>\n",
              "      <td>NaN</td>\n",
              "      <td>2022-07-18T05:04:33</td>\n",
              "      <td>2022-07-18T21:08:16</td>\n",
              "      <td>0.66</td>\n",
              "      <td>Clear</td>\n",
              "      <td>Clear conditions throughout the day.</td>\n",
              "      <td>clear-day</td>\n",
              "      <td>03680099999,D5621,03781099999,03672099999,0377...</td>\n",
              "    </tr>\n",
              "    <tr>\n",
              "      <th>4</th>\n",
              "      <td>London, England, United Kingdom</td>\n",
              "      <td>2022-07-19</td>\n",
              "      <td>39.8</td>\n",
              "      <td>21.7</td>\n",
              "      <td>30.3</td>\n",
              "      <td>37.9</td>\n",
              "      <td>21.7</td>\n",
              "      <td>29.4</td>\n",
              "      <td>11.6</td>\n",
              "      <td>36.0</td>\n",
              "      <td>...</td>\n",
              "      <td>16.4</td>\n",
              "      <td>8</td>\n",
              "      <td>NaN</td>\n",
              "      <td>2022-07-19T05:05:49</td>\n",
              "      <td>2022-07-19T21:07:07</td>\n",
              "      <td>0.69</td>\n",
              "      <td>Rain</td>\n",
              "      <td>Clear conditions throughout the day with late ...</td>\n",
              "      <td>rain</td>\n",
              "      <td>03680099999,D5621,03781099999,03672099999,D412...</td>\n",
              "    </tr>\n",
              "    <tr>\n",
              "      <th>5</th>\n",
              "      <td>London, England, United Kingdom</td>\n",
              "      <td>2022-07-20</td>\n",
              "      <td>26.6</td>\n",
              "      <td>19.1</td>\n",
              "      <td>22.7</td>\n",
              "      <td>26.6</td>\n",
              "      <td>19.1</td>\n",
              "      <td>22.7</td>\n",
              "      <td>15.4</td>\n",
              "      <td>64.9</td>\n",
              "      <td>...</td>\n",
              "      <td>14.3</td>\n",
              "      <td>6</td>\n",
              "      <td>NaN</td>\n",
              "      <td>2022-07-20T05:07:06</td>\n",
              "      <td>2022-07-20T21:05:55</td>\n",
              "      <td>0.75</td>\n",
              "      <td>Rain, Partially cloudy</td>\n",
              "      <td>Partly cloudy throughout the day with rain.</td>\n",
              "      <td>rain</td>\n",
              "      <td>03769099999,03680099999,D5621,03781099999,0367...</td>\n",
              "    </tr>\n",
              "  </tbody>\n",
              "</table>\n",
              "<p>6 rows × 33 columns</p>\n",
              "</div>"
            ],
            "text/plain": [
              "                              name    datetime  tempmax  tempmin  temp  \\\n",
              "0  London, England, United Kingdom  2022-07-15     25.5     14.6  20.6   \n",
              "1  London, England, United Kingdom  2022-07-16     27.8     15.3  21.8   \n",
              "2  London, England, United Kingdom  2022-07-17     30.0     16.1  23.6   \n",
              "3  London, England, United Kingdom  2022-07-18     36.6     18.0  27.7   \n",
              "4  London, England, United Kingdom  2022-07-19     39.8     21.7  30.3   \n",
              "5  London, England, United Kingdom  2022-07-20     26.6     19.1  22.7   \n",
              "\n",
              "   feelslikemax  feelslikemin  feelslike   dew  humidity  ...  solarenergy  \\\n",
              "0          25.5          14.6       20.6   8.3      46.5  ...         17.8   \n",
              "1          27.1          15.3       21.7  10.9      51.8  ...         17.5   \n",
              "2          28.7          16.1       23.2   9.1      42.2  ...         17.0   \n",
              "3          34.6          18.0       26.8   9.9      37.0  ...         16.1   \n",
              "4          37.9          21.7       29.4  11.6      36.0  ...         16.4   \n",
              "5          26.6          19.1       22.7  15.4      64.9  ...         14.3   \n",
              "\n",
              "   uvindex  severerisk              sunrise               sunset  moonphase  \\\n",
              "0        9         NaN  2022-07-15T05:00:53  2022-07-15T21:11:28       0.56   \n",
              "1        8         NaN  2022-07-16T05:02:05  2022-07-16T21:10:27       0.59   \n",
              "2        8         NaN  2022-07-17T05:03:18  2022-07-17T21:09:23       0.62   \n",
              "3        8         NaN  2022-07-18T05:04:33  2022-07-18T21:08:16       0.66   \n",
              "4        8         NaN  2022-07-19T05:05:49  2022-07-19T21:07:07       0.69   \n",
              "5        6         NaN  2022-07-20T05:07:06  2022-07-20T21:05:55       0.75   \n",
              "\n",
              "               conditions                                        description  \\\n",
              "0                   Clear               Clear conditions throughout the day.   \n",
              "1                   Clear               Clear conditions throughout the day.   \n",
              "2                   Clear               Clear conditions throughout the day.   \n",
              "3                   Clear               Clear conditions throughout the day.   \n",
              "4                    Rain  Clear conditions throughout the day with late ...   \n",
              "5  Rain, Partially cloudy        Partly cloudy throughout the day with rain.   \n",
              "\n",
              "        icon                                           stations  \n",
              "0  clear-day  03769099999,03680099999,D5621,03781099999,0367...  \n",
              "1  clear-day  03769099999,03680099999,D5621,03781099999,0367...  \n",
              "2  clear-day  03680099999,D5621,03781099999,03672099999,0377...  \n",
              "3  clear-day  03680099999,D5621,03781099999,03672099999,0377...  \n",
              "4       rain  03680099999,D5621,03781099999,03672099999,D412...  \n",
              "5       rain  03769099999,03680099999,D5621,03781099999,0367...  \n",
              "\n",
              "[6 rows x 33 columns]"
            ]
          },
          "execution_count": 27,
          "metadata": {},
          "output_type": "execute_result"
        }
      ],
      "source": [
        "weather_url = f\"https://weather.visualcrossing.com/VisualCrossingWebServices/rest/services/timeline/London%2CUK/2022-07-15/2022-07-20?unitGroup=metric&contentType=csv&include=days&key={WEATHER_API_KEY}\"\n",
        "\n",
        "results_df = pd.read_csv(weather_url)\n",
        "\n",
        "results_df"
      ]
    },
    {
      "cell_type": "markdown",
      "metadata": {},
      "source": [
        "## 2. Store Data\n",
        "### Add File to GitHub\n",
        "\n",
        "*Note: This is a quick & easy solution to host the data, but can also add file to IPFS, Arweave, GCP, AWS, etc...*"
      ]
    },
    {
      "cell_type": "code",
      "execution_count": 22,
      "metadata": {},
      "outputs": [],
      "source": [
        "# Create File from Query results\n",
        "results_df.to_csv(\"query_results.csv\", index=False)"
      ]
    },
    {
      "cell_type": "code",
      "execution_count": 23,
      "metadata": {},
      "outputs": [
        {
          "name": "stdout",
          "output_type": "stream",
          "text": [
            "[main 1d372f1] Your commit message here\n",
            " 2 files changed, 300 insertions(+), 34 deletions(-)\n",
            "Git add, commit, and push successful!\n"
          ]
        },
        {
          "name": "stderr",
          "output_type": "stream",
          "text": [
            "To https://github.com/Demoniarc/ocean_data_nfts\n",
            "   f116129..1d372f1  main -> main\n"
          ]
        }
      ],
      "source": [
        "# Store file in GitHub repo\n",
        "def git_add_commit_push(commit_message):\n",
        "    try:\n",
        "        subprocess.run([\"git\", \"add\", \".\"])\n",
        "        subprocess.run([\"git\", \"commit\", \"-m\", commit_message])\n",
        "        subprocess.run([\"git\", \"push\"])\n",
        "        print(\"Git add, commit, and push successful!\")\n",
        "    except Exception as e:\n",
        "        print(\"An error occurred:\", e)\n",
        "\n",
        "\n",
        "# Replace 'Your commit message here' with your desired commit message\n",
        "commit_message = \"Your commit message here\"\n",
        "\n",
        "git_add_commit_push(commit_message)"
      ]
    },
    {
      "cell_type": "markdown",
      "metadata": {
        "id": "jq9EbM_MRwLI"
      },
      "source": [
        "## 3. Create Data NFT\n",
        "### Add Data NFT to the OCEAN Protocol Marketplace\n",
        "\n",
        "* Marketplace: https://market.oceanprotocol.com/\n",
        "* SDK Docs: https://docs.oceanprotocol.com/developers/ocean.py/install"
      ]
    },
    {
      "cell_type": "code",
      "execution_count": 24,
      "metadata": {},
      "outputs": [],
      "source": [
        "# Connect to Blockchain\n",
        "connect_to_network(\"polygon-main\")\n",
        "config = get_config_dict(\"polygon-main\")\n",
        "ocean = Ocean(config)"
      ]
    },
    {
      "cell_type": "code",
      "execution_count": 25,
      "metadata": {
        "id": "ddWUcAVtvtQx"
      },
      "outputs": [
        {
          "name": "stdout",
          "output_type": "stream",
          "text": [
            "MATIC Balance: 7.226968411279805\n"
          ]
        }
      ],
      "source": [
        "# Connect to Wallet\n",
        "accounts.clear()\n",
        "private_key = os.getenv(\"PRIVATE_KEY\")\n",
        "wallet = accounts.add(private_key)\n",
        "print(\"MATIC Balance:\", wallet.balance() / 1e18)"
      ]
    },
    {
      "cell_type": "code",
      "execution_count": 26,
      "metadata": {},
      "outputs": [
        {
          "name": "stdout",
          "output_type": "stream",
          "text": [
            "priority_fee: 32093266514 max_fee: 191837331384 gas_limit: 2239305\n",
            "Transaction sent: \u001b[0;1;34m0x669b8e12c23a978dc5920c8e2a439a56b1aba3b2578494d75d059aec952097f8\u001b[0;m\n",
            "  Max fee: \u001b[0;1;34m191.837331384\u001b[0;m gwei   Priority fee: \u001b[0;1;34m32.093266514\u001b[0;m gwei   Gas limit: \u001b[0;1;34m2239305\u001b[0;m   Nonce: \u001b[0;1;34m7\u001b[0;m\n",
            "  ERC721Factory.createNftWithErc20 confirmed   Block: \u001b[0;1;34m47140736\u001b[0;m   Gas used: \u001b[0;1;34m1595778\u001b[0;m (\u001b[0;1;34m71.26%\u001b[0;m)   Gas price: \u001b[0;1;34m120.108547443\u001b[0;m gwei\n",
            "\n"
          ]
        },
        {
          "name": "stderr",
          "output_type": "stream",
          "text": [
            "INFO:ocean_lib.data_provider.data_encryptor:Asset urls encrypted successfully, encrypted urls str: 0x04a07c56b76caeb91f2270425718740804304ed89f8ec9028e41415667f8b21cb275a319db96b782f18f96aac7addddee699772b31d94166478dc933fa0ff27f7f88c2931f30e602119ceb40d81931c5d1bf394c0db4d3ea6ee13e486cae2c56512bb7211fb1eaa9c52443c6fe21fabf54b1f5c1ed624869f9b7b2b518cf06c5f6479983b37d9cb8cca76d233117b0cf9e137c33ce9c78df64dfe663f75195483fa6a72d9fe0c49b6c0c84829a5252ad49dcd57258b27d273a9d855fbe4cbc30c3331ce19f9679e4794be1e974cb4831377f8ae9918362cd9bcc40724b804f65a5b58725e564c543ebfd5f225e0cde00dba51f5883037f004fbca2f916ee8be0c162e7e1a8a98550893027db913a0511de530a7350c923728666a5eded04f7c13bc29f18729e89be68aa1aed2b349b926af38144e20c9e04becbc866a8007564f14f1c83aea0a22cb7d5, encryptedEndpoint https://v4.provider.polygon.oceanprotocol.com/api/services/encrypt?chainId=137\n",
            "INFO:ocean_lib.data_provider.data_encryptor:Asset urls encrypted successfully, encrypted urls str: 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, encryptedEndpoint https://v4.provider.polygon.oceanprotocol.com/api/services/encrypt?chainId=137\n"
          ]
        },
        {
          "name": "stdout",
          "output_type": "stream",
          "text": [
            "Transaction sent: \u001b[0;1;34m0xf4531a2f39366031bac5a7464a2aea659b2dec7134c427da0c24c58fd5498569\u001b[0;m\n",
            "  Max fee: \u001b[0;1;34m191.837331384\u001b[0;m gwei   Priority fee: \u001b[0;1;34m32.093266514\u001b[0;m gwei   Gas limit: \u001b[0;1;34m2239305\u001b[0;m   Nonce: \u001b[0;1;34m8\u001b[0;m\n",
            "  ERC721Template.setMetaData confirmed   Block: \u001b[0;1;34m47140740\u001b[0;m   Gas used: \u001b[0;1;34m212411\u001b[0;m (\u001b[0;1;34m9.49%\u001b[0;m)   Gas price: \u001b[0;1;34m127.440641717\u001b[0;m gwei\n",
            "\n",
            "Transaction sent: \u001b[0;1;34m0x4ea8649d679c026263f998fc56dc07d0254913177d48c1ff079cad57f74b8e6b\u001b[0;m\n",
            "  Max fee: \u001b[0;1;34m191.837331384\u001b[0;m gwei   Priority fee: \u001b[0;1;34m32.093266514\u001b[0;m gwei   Gas limit: \u001b[0;1;34m2239305\u001b[0;m   Nonce: \u001b[0;1;34m9\u001b[0;m\n",
            "  ERC20Template.createDispenser confirmed   Block: \u001b[0;1;34m47140763\u001b[0;m   Gas used: \u001b[0;1;34m283122\u001b[0;m (\u001b[0;1;34m12.64%\u001b[0;m)   Gas price: \u001b[0;1;34m131.037935405\u001b[0;m gwei\n",
            "\n",
            "Data NFT published:\n",
            "  data_nft: symbol=Weather Data NFT , address=0xdbE4589621ed7b3178eD56bB38Ab07DCB08910d5\n",
            "  datatoken: symbol=DT1, address=0xa564376aE5C2dd066BBA66F4D93998DCDf47cDFC\n",
            "  did=did:op:ee7288202948bf35c19d084e58f5b87a7052d840d531b3d75ba0a6b0006d6b77\n",
            "  Link: https://market.oceanprotocol.com/asset/did:op:ee7288202948bf35c19d084e58f5b87a7052d840d531b3d75ba0a6b0006d6b77\n"
          ]
        }
      ],
      "source": [
        "# Create Data NFT\n",
        "name = \"Weather Data NFT \"\n",
        "\n",
        "# Link to File\n",
        "result = subprocess.run(\n",
        "    [\"git\", \"config\", \"--get\", \"user.name\"], stdout=subprocess.PIPE, text=True\n",
        ")\n",
        "github_username = result.stdout.strip().replace(\" \", \"\")\n",
        "url = f\"https://raw.githubusercontent.com/{github_username}/ocean_data_nfts/main/query_results.csv\"\n",
        "\n",
        "# Set Gas Fees\n",
        "priority_fee = chain.priority_fee\n",
        "max_fee = (chain.base_fee * 2) + priority_fee\n",
        "gas_limit = int((priority_fee + max_fee) / 1e5)\n",
        "print(\"priority_fee:\", priority_fee, \"max_fee:\", max_fee, \"gas_limit:\", gas_limit)\n",
        "\n",
        "# Configure Transaction Variables\n",
        "tx_dict = {\n",
        "    \"from\": wallet,\n",
        "    \"priority_fee\": priority_fee,\n",
        "    \"max_fee\": max_fee,\n",
        "    \"gas_limit\": gas_limit,\n",
        "}\n",
        "\n",
        "# Publish Data NFT\n",
        "(data_nft, datatoken, ddo) = ocean.assets.create_url_asset(name, url, tx_dict)\n",
        "\n",
        "time.sleep(30)\n",
        "\n",
        "# Set Price to Free\n",
        "datatoken.create_dispenser(tx_dict)\n",
        "\n",
        "print(\"Data NFT published:\")\n",
        "print(f\"  data_nft: symbol={data_nft.symbol()}, address={data_nft.address}\")\n",
        "print(f\"  datatoken: symbol={datatoken.symbol()}, address={datatoken.address}\")\n",
        "print(f\"  did={ddo.did}\")\n",
        "print(f\"  Link: https://market.oceanprotocol.com/asset/{ddo.did}\")"
      ]
    }
  ],
  "metadata": {
    "colab": {
      "collapsed_sections": [
        "lD0ohbZKhrSA",
        "QyP9sQLdhrSH"
      ],
      "provenance": [],
      "toc_visible": true
    },
    "kernelspec": {
      "display_name": "Python 3 (ipykernel)",
      "language": "python",
      "name": "python3"
    },
    "language_info": {
      "codemirror_mode": {
        "name": "ipython",
        "version": 3
      },
      "file_extension": ".py",
      "mimetype": "text/x-python",
      "name": "python",
      "nbconvert_exporter": "python",
      "pygments_lexer": "ipython3",
      "version": "3.8.17"
    }
  },
  "nbformat": 4,
  "nbformat_minor": 0
}
